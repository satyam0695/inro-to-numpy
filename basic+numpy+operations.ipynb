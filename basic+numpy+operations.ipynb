{
 "cells": [
  {
   "cell_type": "markdown",
   "metadata": {},
   "source": [
    "# basic numpy operations\n",
    "\n",
    "### by the end of this session we will have a clear understanding on numpy arrays\n",
    "\n",
    "#### Sessions Agenda\n",
    "\n",
    "\n",
    "<ol>\n",
    "  <li>Creating one dimensional numpy arrays</li>\n",
    "  <li>Creating two dimensional numpy arrays</li>\n",
    "  <li>Creating n dimensional numpy arrays</li>\n",
    "  <li>Slicing in arrays</li>\n",
    "  <li>Basic mathematical operations on numpy arrays</li>\n",
    "</ol> "
   ]
  },
  {
   "cell_type": "markdown",
   "metadata": {},
   "source": [
    "## creating arrays"
   ]
  },
  {
   "cell_type": "code",
   "execution_count": 8,
   "metadata": {
    "collapsed": true
   },
   "outputs": [],
   "source": [
    "#importing numpy package\n",
    "import numpy as np\n",
    "\n",
    "#creating an array object\n",
    "array1 = np.array([1,2,3]) #creating one ddimensional array"
   ]
  },
  {
   "cell_type": "code",
   "execution_count": 9,
   "metadata": {},
   "outputs": [
    {
     "name": "stdout",
     "output_type": "stream",
     "text": [
      "Shape of the 'array1' is: (3,)\n",
      "dimension of the 'array1' is: 1\n",
      "the array created is as follow: [1 2 3]\n"
     ]
    }
   ],
   "source": [
    "#to know the shape of the array\n",
    "print(\"Shape of the 'array1' is:\", array1.shape)\n",
    "#to know the dimension of the array\n",
    "print(\"dimension of the 'array1' is:\", array1.ndim)\n",
    "#to print the array\n",
    "print(\"the array created is as follow:\",array1)"
   ]
  },
  {
   "cell_type": "code",
   "execution_count": 10,
   "metadata": {},
   "outputs": [
    {
     "name": "stdout",
     "output_type": "stream",
     "text": [
      "Shape of the 'array2' is: (2, 3)\n",
      "dimension of the 'array2' is: 2\n",
      "the array created is as follow: [[4 5 6]\n",
      " [7 8 9]]\n"
     ]
    }
   ],
   "source": [
    "#creating two dimensional array\n",
    "array2 = np.array([[4,5,6],[7,8,9]])\n",
    "print(\"Shape of the 'array2' is:\", array2.shape)\n",
    "#to know the dimension of the array\n",
    "print(\"dimension of the 'array2' is:\", array2.ndim)\n",
    "#to print the array\n",
    "print(\"the array created is as follow:\",array2)"
   ]
  },
  {
   "cell_type": "markdown",
   "metadata": {},
   "source": [
    "#### creating empty numpy array"
   ]
  },
  {
   "cell_type": "code",
   "execution_count": 11,
   "metadata": {},
   "outputs": [
    {
     "name": "stdout",
     "output_type": "stream",
     "text": [
      "Shape of the 'array2' is: (0,)\n",
      "dimension of the 'array2' is: 1\n",
      "the array created is as follow: []\n"
     ]
    }
   ],
   "source": [
    "#creating an empty array\n",
    "empty_array = np.array([])\n",
    "print(\"Shape of the 'array2' is:\", empty_array.shape)\n",
    "#to know the dimension of the array\n",
    "print(\"dimension of the 'array2' is:\", empty_array.ndim)\n",
    "#to print the array\n",
    "print(\"the array created is as follow:\",empty_array)"
   ]
  },
  {
   "cell_type": "markdown",
   "metadata": {},
   "source": [
    "#### Creating array containing Zeros and ones"
   ]
  },
  {
   "cell_type": "code",
   "execution_count": 12,
   "metadata": {},
   "outputs": [
    {
     "name": "stdout",
     "output_type": "stream",
     "text": [
      "[[ 0.  0.  0.]\n",
      " [ 0.  0.  0.]\n",
      " [ 0.  0.  0.]]\n",
      "---------------\n",
      "[ 0.  0.  0.]\n"
     ]
    }
   ],
   "source": [
    "#creating array containing ZEROS\n",
    "zero_array = np.zeros([3,3])\n",
    "zero_array1 = np.zeros([3])\n",
    "print(zero_array)\n",
    "print(\"---------------\")\n",
    "print(zero_array1)"
   ]
  },
  {
   "cell_type": "code",
   "execution_count": 13,
   "metadata": {
    "collapsed": true
   },
   "outputs": [],
   "source": [
    "#creating array containing ONES\n",
    "ones_array = np.ones([3,4])"
   ]
  },
  {
   "cell_type": "markdown",
   "metadata": {},
   "source": [
    "#### Creating Array with random numbers"
   ]
  },
  {
   "cell_type": "code",
   "execution_count": 14,
   "metadata": {
    "collapsed": true
   },
   "outputs": [],
   "source": [
    "random_array = np.random.random([3,3])"
   ]
  },
  {
   "cell_type": "code",
   "execution_count": 15,
   "metadata": {},
   "outputs": [
    {
     "data": {
      "text/plain": [
       "array([[ 0.07775048,  0.17297101,  0.50941746],\n",
       "       [ 0.18484254,  0.67343146,  0.52545008],\n",
       "       [ 0.63073694,  0.06080708,  0.41330561]])"
      ]
     },
     "execution_count": 15,
     "metadata": {},
     "output_type": "execute_result"
    }
   ],
   "source": [
    "random_array"
   ]
  },
  {
   "cell_type": "markdown",
   "metadata": {},
   "source": [
    "#### Performing few mathematical operations on arrays"
   ]
  },
  {
   "cell_type": "code",
   "execution_count": 16,
   "metadata": {
    "collapsed": true
   },
   "outputs": [],
   "source": [
    "angle_array = np.array([[0,30,45,90,],[90,45,30,0]])"
   ]
  },
  {
   "cell_type": "code",
   "execution_count": 17,
   "metadata": {},
   "outputs": [
    {
     "name": "stdout",
     "output_type": "stream",
     "text": [
      "[[ 0.         -0.98803162  0.85090352  0.89399666]\n",
      " [ 0.89399666  0.85090352 -0.98803162  0.        ]]\n"
     ]
    }
   ],
   "source": [
    "print(np.sin(angle_array))"
   ]
  },
  {
   "cell_type": "code",
   "execution_count": 4,
   "metadata": {
    "collapsed": true
   },
   "outputs": [],
   "source": [
    "array11 = np.array([20,25,60,40])\n",
    "array12 = np.array([5,25,30,40])"
   ]
  },
  {
   "cell_type": "markdown",
   "metadata": {},
   "source": [
    "#### Few basic mathematical operations on arrays"
   ]
  },
  {
   "cell_type": "code",
   "execution_count": 21,
   "metadata": {},
   "outputs": [
    {
     "name": "stdout",
     "output_type": "stream",
     "text": [
      "sum of array11 and array12 is: [25 50 90 80]\n",
      "substraction of array11 and array12 is: [15  0 30  0]\n",
      "division of array11 and array12 is: [ 4.  1.  2.  1.]\n",
      "remainder of array11 and array12 is: [0 0 0 0]\n"
     ]
    }
   ],
   "source": [
    "print(\"sum of array11 and array12 is:\",np.add(array11,array12))\n",
    "print(\"substraction of array11 and array12 is:\", np.subtract(array11,array12))\n",
    "print(\"division of array11 and array12 is:\", np.divide(array11,array12))\n",
    "print(\"remainder of array11 and array12 is:\", np.remainder(array11,array12))"
   ]
  },
  {
   "cell_type": "code",
   "execution_count": 20,
   "metadata": {},
   "outputs": [
    {
     "name": "stdout",
     "output_type": "stream",
     "text": [
      "square root of array11 is: [ 4.47213595  5.          7.74596669  6.32455532]\n",
      " natural logarithms of array11 is: [ 2.99573227  3.21887582  4.09434456  3.68887945]\n"
     ]
    }
   ],
   "source": [
    "print(\"square root of array11 is:\", np.sqrt(array11))\n",
    "print(\" natural logarithms of array11 is:\", np.log(array11))"
   ]
  },
  {
   "cell_type": "markdown",
   "metadata": {},
   "source": [
    "#### array slicing..."
   ]
  },
  {
   "cell_type": "code",
   "execution_count": 25,
   "metadata": {},
   "outputs": [
    {
     "name": "stdout",
     "output_type": "stream",
     "text": [
      "print third third element in slice_array: [95]\n",
      "print second element to fifth element in slice_array: [75 95 35 28]\n"
     ]
    }
   ],
   "source": [
    "slice_array = np.array([88,75,95,35,28,32,49])\n",
    "print(\"print third third element in slice_array:\", slice_array[2:3])\n",
    "print(\"print second element to fifth element in slice_array:\", slice_array[1:5])"
   ]
  },
  {
   "cell_type": "code",
   "execution_count": 33,
   "metadata": {},
   "outputs": [
    {
     "name": "stdout",
     "output_type": "stream",
     "text": [
      "[2]\n"
     ]
    }
   ],
   "source": [
    "slice_array1 = np.array([[1,3,2,9,4,7],[11,12,33,54,10,6]])\n",
    "print(slice_array1[0][2:3])"
   ]
  },
  {
   "cell_type": "markdown",
   "metadata": {},
   "source": [
    "#### basic statistical operations on arrays"
   ]
  },
  {
   "cell_type": "code",
   "execution_count": 36,
   "metadata": {},
   "outputs": [
    {
     "name": "stdout",
     "output_type": "stream",
     "text": [
      "mean of array slice_array : 57.4285714286\n",
      "minimum value in the array, slice_array : 28\n",
      "maximum value in the array, array slice_array : 95\n",
      "standard deviation of array, slice_array : 26.0266739155\n",
      "variance of array, slice_array : 677.387755102\n"
     ]
    }
   ],
   "source": [
    "print(\"mean of array slice_array :\", np.mean(slice_array))\n",
    "print(\"minimum value in the array, slice_array :\", np.min(slice_array))\n",
    "print(\"maximum value in the array, array slice_array :\", np.max(slice_array))\n",
    "print(\"standard deviation of array, slice_array :\", np.std(slice_array))\n",
    "print(\"variance of array, slice_array :\", np.var(slice_array))"
   ]
  },
  {
   "cell_type": "markdown",
   "metadata": {},
   "source": [
    "#### getting the mean of rows in n dimensional array"
   ]
  },
  {
   "cell_type": "code",
   "execution_count": 52,
   "metadata": {},
   "outputs": [
    {
     "name": "stdout",
     "output_type": "stream",
     "text": [
      "[[ 0.48559357  0.10560822  0.16981272  0.55926584]\n",
      " [ 0.40194881  0.25966114  0.6193347   0.74096893]\n",
      " [ 0.77138518  0.77499489  0.12550847  0.49594039]]\n",
      "////////////////////////////////////////////////////////////////////////////\n",
      "[ 0.48559357  0.10560822  0.16981272  0.55926584] mean is: 0.33007008693\n",
      "[ 0.40194881  0.25966114  0.6193347   0.74096893] mean is: 0.505478395708\n",
      "[ 0.77138518  0.77499489  0.12550847  0.49594039] mean is: 0.541957232503\n"
     ]
    }
   ],
   "source": [
    "arr1 = np.random.random([3,4])\n",
    "print(arr1)\n",
    "print(\"////////////////////////////////////////////////////////////////////////////\")\n",
    "for row in arr1:\n",
    "    print( row, \"mean is:\", np.mean(row))"
   ]
  },
  {
   "cell_type": "markdown",
   "metadata": {},
   "source": [
    "#### sorting numpy array"
   ]
  },
  {
   "cell_type": "code",
   "execution_count": 51,
   "metadata": {},
   "outputs": [
    {
     "name": "stdout",
     "output_type": "stream",
     "text": [
      "descending order of slice_array is: [95 88 75 49 35 32 28]\n",
      "ascending order of slice_array: [28 32 35 49 75 88 95]\n"
     ]
    }
   ],
   "source": [
    "print(\"descending order of slice_array is:\" ,-np.sort(-slice_array))\n",
    "print(\"ascending order of slice_array:\", np.sort(slice_array))"
   ]
  },
  {
   "cell_type": "code",
   "execution_count": 58,
   "metadata": {},
   "outputs": [
    {
     "name": "stdout",
     "output_type": "stream",
     "text": [
      "array sorted according to column is : [[27 55 98]\n",
      " [ 1  4 99]\n",
      " [ 0 74 98]]\n"
     ]
    }
   ],
   "source": [
    "# sorting according to column\n",
    "array2 = np.array(([55,27,98],[4,99,1],[98,74,0]))\n",
    "print(\"array sorted according to column is :\",np.sort(array2, axis=1))"
   ]
  },
  {
   "cell_type": "markdown",
   "metadata": {},
   "source": [
    "#### resizing an array and transpose"
   ]
  },
  {
   "cell_type": "code",
   "execution_count": 68,
   "metadata": {},
   "outputs": [
    {
     "name": "stdout",
     "output_type": "stream",
     "text": [
      "[[ 0.9896091   0.89133444  0.51932705  0.24984199]\n",
      " [ 0.39812883  0.79540451  0.95127202  0.68282473]\n",
      " [ 0.96712839  0.69579003  0.54112704  0.6934753 ]]\n",
      "after reshape\n",
      "[[ 0.9896091   0.89133444  0.51932705]\n",
      " [ 0.24984199  0.39812883  0.79540451]\n",
      " [ 0.95127202  0.68282473  0.96712839]\n",
      " [ 0.69579003  0.54112704  0.6934753 ]]\n",
      "transpose of a1 array is as follows\n",
      "[[ 0.9896091   0.39812883  0.96712839]\n",
      " [ 0.89133444  0.79540451  0.69579003]\n",
      " [ 0.51932705  0.95127202  0.54112704]\n",
      " [ 0.24984199  0.68282473  0.6934753 ]]\n"
     ]
    }
   ],
   "source": [
    "a1 = np.random.random([3,4])\n",
    "a2 = a1.reshape((4,3))\n",
    "print(a1)\n",
    "print(\"after reshape\")\n",
    "print(a2)\n",
    "print(\"transpose of a1 array is as follows\")\n",
    "print(np.transpose(a1))"
   ]
  },
  {
   "cell_type": "code",
   "execution_count": null,
   "metadata": {
    "collapsed": true
   },
   "outputs": [],
   "source": []
  }
 ],
 "metadata": {
  "kernelspec": {
   "display_name": "Python 3",
   "language": "python",
   "name": "python3"
  },
  "language_info": {
   "codemirror_mode": {
    "name": "ipython",
    "version": 3
   },
   "file_extension": ".py",
   "mimetype": "text/x-python",
   "name": "python",
   "nbconvert_exporter": "python",
   "pygments_lexer": "ipython3",
   "version": "3.6.2"
  }
 },
 "nbformat": 4,
 "nbformat_minor": 2
}
